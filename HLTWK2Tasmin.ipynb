{
 "metadata": {
  "language_info": {
   "codemirror_mode": {
    "name": "ipython",
    "version": 3
   },
   "file_extension": ".py",
   "mimetype": "text/x-python",
   "name": "python",
   "nbconvert_exporter": "python",
   "pygments_lexer": "ipython3",
   "version": "3.9.5"
  },
  "orig_nbformat": 4,
  "kernelspec": {
   "name": "python3",
   "display_name": "Python 3.9.5 64-bit"
  },
  "interpreter": {
   "hash": "c958e67581bf5013e79959b0fec4eed6d80993cf9b82d7c6eef8fa484b7cf595"
  }
 },
 "nbformat": 4,
 "nbformat_minor": 2,
 "cells": [
  {
   "cell_type": "code",
   "execution_count": 15,
   "metadata": {},
   "outputs": [
    {
     "output_type": "stream",
     "name": "stdout",
     "text": [
      "Hello welcome to Big Burger resturant\n",
      "Your Burger has been added to your order\n",
      "Ok, your item has been added to your order. Your order will cost £5.20\n",
      "Thank you for you Order\n"
     ]
    }
   ],
   "source": [
    "print(\"Hello welcome to Big Burger resturant\")\n",
    "\n",
    "burger = int(input(\"What burger would you like? Type 1 for Beef or Type 2 for Chicken Type 3 for Vegan or Type 4 for Vegetarian\"))\n",
    "\n",
    "if burger == 1 or 2:\n",
    "    print(\"Your Burger has been added to your order\")\n",
    "\n",
    "    fries_drink = int(input(\"Would you like fries and a drink with that? Type 1 for both, Type 2 for just fries, Type 3 for just a drink or Type 4 for non\"))\n",
    "    if fries_drink == 1:\n",
    "        print(\"Great, Both fries and drink have been added to your order! Your meal will cost £6\")\n",
    "    elif fries_drink == 2 or 3:\n",
    "        print(\"Ok, your item has been added to your order. Your order will cost £5.20\")\n",
    "    elif fries_drink == 4:\n",
    "        print(\"Ok, your Burger will cost £4.80\")\n",
    "    else:\n",
    "        print(\"something went wrong, please try again.\")\n",
    "\n",
    "\n",
    "elif burger == 2:\n",
    "    print(\"Your Burger has been added to your order\")\n",
    "\n",
    "    fries_drink = int(input(\"Would you like fries and a drink with that? Type 1 for both, Type 2 for just fries, Type 3 for just a drink or Type 4 for non\"))\n",
    "    if fries_drink == 1:\n",
    "        print(\"Great, Both fries and drink have been added to your order! Your meal will cost £5\")\n",
    "    elif fries_drink == 2 or 3:\n",
    "        print(\"Ok, your item has been added to your order. Your order will cost £4.20\")\n",
    "    elif fries_drink == 4:\n",
    "        print(\"Ok, your Burger will cost £3.80\")\n",
    "    else:\n",
    "        print(\"something went wrong, please try again.\")\n",
    "print(\"Thank you for you Order\")\n",
    "\n",
    "\n",
    "\n",
    "\n"
   ]
  },
  {
   "cell_type": "code",
   "execution_count": 1,
   "metadata": {},
   "outputs": [
    {
     "output_type": "stream",
     "name": "stdout",
     "text": [
      "The value is 2000\nThe value is 1800.0\nThe value is 1620.0\nThe value is 1458.0\nThe value is 1312.2\nThe value is 1180.98\nThe value is 1062.882\n"
     ]
    }
   ],
   "source": [
    "bike_price = 2000\n",
    "\n",
    "def calculator(value, depreciatation_amount):\n",
    "    while value > 1000:\n",
    "        print(\"The value is\", value)\n",
    "        value = value * depreciatation_amount\n",
    "\n",
    "calculator(bike_price, 0.9)"
   ]
  },
  {
   "cell_type": "code",
   "execution_count": 14,
   "metadata": {},
   "outputs": [
    {
     "output_type": "stream",
     "name": "stdout",
     "text": [
      "30\n"
     ]
    }
   ],
   "source": [
    "def procedure_2 (inp_num1, inpnum2):\n",
    "    num1 = inp_num1\n",
    "    num2 = inp_num2\n",
    "\n",
    "num1 = int(input(\"Please type a number\"))\n",
    "num2 = int(input(\"Please type another number\"))\n",
    "\n",
    "cal = input(\"type + for add - for subtract * for multiply / for division\")\n",
    "\n",
    "if cal == \"+\":\n",
    "    print(num1 + num2)\n",
    "\n",
    "elif cal == \"-\":\n",
    "    print(num1 - num2)\n",
    "\n",
    "elif cal == \"*\":\n",
    "    print(num1 * num2)\n",
    "\n",
    "elif cal == \"/\":\n",
    "    print(num1 / num2)\n",
    "\n",
    "else:\n",
    "    print (\"Oh no! Looks like you didn't type in a correct calculation value. Please try again.\")\n",
    "\n",
    "\n"
   ]
  },
  {
   "cell_type": "code",
   "execution_count": null,
   "metadata": {},
   "outputs": [],
   "source": []
  }
 ]
}